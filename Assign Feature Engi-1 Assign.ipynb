{
 "cells": [
  {
   "cell_type": "code",
   "execution_count": 1,
   "id": "971e7fbc-669e-4893-95c8-6249c11930c5",
   "metadata": {},
   "outputs": [],
   "source": [
    "#Q1. What are missing values in a dataset? Why is it essential to handle missing values? Name some\n",
    "#algorithms that are not affected by missing values."
   ]
  },
  {
   "cell_type": "code",
   "execution_count": 2,
   "id": "3c65b8f0-918c-43cd-a335-aa48ead780fe",
   "metadata": {},
   "outputs": [],
   "source": [
    "#Missing data, or missing values, occur when you don't have data stored for certain variables or participants.\n",
    "#The concept of missing values is important to understand in order to successfully manage data."
   ]
  },
  {
   "cell_type": "code",
   "execution_count": 3,
   "id": "1c19b462-18ec-43f8-8e51-3a1cdbc7847f",
   "metadata": {},
   "outputs": [],
   "source": [
    "#Q2: List down techniques used to handle missing data. Give an example of each with python code."
   ]
  },
  {
   "cell_type": "code",
   "execution_count": 4,
   "id": "77a3b033-74c9-4e78-a774-eba8103ea0c3",
   "metadata": {},
   "outputs": [],
   "source": [
    "#Popular strategies to handle missing values in the dataset\n",
    "#Missing Completly at Random MCAR\n",
    "# Example -when a survey is conducted, and values were just randomly missed when being entered in the computer \n",
    "#or a respondent chose not to respond to a question.\n",
    "\n",
    "# Missing data at Random MAR\n",
    "#when smoking status is not recorded in patients admitted as an emergency, who are also more likely to have \n",
    "#worse outcomes from surgery.\n",
    "\n",
    "#Missing data not at Random MNAR\n",
    "#the weighing scale mechanism may wear out over time, producing more missing data as time progresses, but we may \n",
    "#fail to note this.\n"
   ]
  },
  {
   "cell_type": "code",
   "execution_count": 5,
   "id": "818b6107-55d6-451a-a795-80c940a43ef4",
   "metadata": {},
   "outputs": [],
   "source": [
    "#Q3: Explain the imbalanced data. What will happen if imbalanced data is not handled?"
   ]
  },
  {
   "cell_type": "code",
   "execution_count": 6,
   "id": "47aed8d5-2501-4403-9e95-641abf1ce660",
   "metadata": {},
   "outputs": [],
   "source": [
    "#A classification data set with skewed class proportions is called imbalanced. Classes that make up a large \n",
    "#proportion of the data set are called majority classes. Those that make up a smaller proportion are minority\n",
    "#classes.\n",
    "#Imbalanced datasets mean that the number of observations differs for the classes in a classification dataset.\n",
    "#This imbalance can lead to inaccurate results. "
   ]
  },
  {
   "cell_type": "code",
   "execution_count": 7,
   "id": "0fab3813-501b-4256-89ee-f4b1260fba90",
   "metadata": {},
   "outputs": [],
   "source": [
    "#Q4: What are Up-sampling and Down-sampling? Explain with an example when up-sampling and down-\n",
    "#sampling are required."
   ]
  },
  {
   "cell_type": "code",
   "execution_count": 8,
   "id": "c5a2e272-cb67-45dd-8204-cb5224e4ec90",
   "metadata": {},
   "outputs": [],
   "source": [
    "#Upsampling is the process of inserting zero-valued samples between original samples to increase the\n",
    "#sampling rate. For example, if compact disc audio at 44,100 samples/second is upsampled by a factor of 5/4, the resulting sample-rate \n",
    "#is 55,125.\n",
    "#Downsampling is the process of reducing the sampling rate of a signal for example, a time signal of 10 seconds \n",
    "#length, with a sample rate of 1024Hz or samples per second will have 10 x 1024 or 10240 samples."
   ]
  },
  {
   "cell_type": "code",
   "execution_count": 9,
   "id": "3b1b84da-cc26-4d12-9442-862522abcce5",
   "metadata": {},
   "outputs": [],
   "source": [
    "#Q5: What is data Augmentation? Explain SMOTE."
   ]
  },
  {
   "cell_type": "code",
   "execution_count": 10,
   "id": "cfead72d-3cca-4012-8e60-56d94bf3d0bd",
   "metadata": {},
   "outputs": [],
   "source": [
    "#Data augmentation is a technique of artificially increasing the training set by creating modified copies of a \n",
    "#dataset using existing data.\n",
    "#SMOTE is an over-sampling technique focused on generating synthetic tabular data. "
   ]
  },
  {
   "cell_type": "code",
   "execution_count": 11,
   "id": "ce4bd7a8-aff3-4208-985d-de159cbecda2",
   "metadata": {},
   "outputs": [],
   "source": [
    "#Q6: What are outliers in a dataset? Why is it essential to handle outliers?"
   ]
  },
  {
   "cell_type": "code",
   "execution_count": 12,
   "id": "c734aa2e-23cd-46b8-910b-94f49a0764d2",
   "metadata": {},
   "outputs": [],
   "source": [
    "#Outliers are the observations in a dataset that deviate significantly from the rest of the data. In any data \n",
    "#science project, it is essential to identify and handle outliers, as they can have a significant impact on many \n",
    "#statistical methods, such as means, standard deviations, etc., and the performance of ML models."
   ]
  },
  {
   "cell_type": "code",
   "execution_count": 13,
   "id": "0d9e6870-dc65-4e3d-a781-b7c3396633dc",
   "metadata": {},
   "outputs": [],
   "source": [
    "#Q7: You are working on a project that requires analyzing customer data. However, you notice that some of\n",
    "#the data is missing. What are some techniques you can use to handle the missing data in your analysis?"
   ]
  },
  {
   "cell_type": "code",
   "execution_count": 14,
   "id": "cf5c93fb-9be2-43a8-a575-4d98161ba9c2",
   "metadata": {},
   "outputs": [],
   "source": [
    "#Mean, Median and Mode\n",
    "\n",
    "#This is one of the most common methods of imputing values when dealing with missing data. In cases where there \n",
    "#are a small number of missing observations, data scientists can calculate the mean or median of the existing \n",
    "#observations open_in_new.\n"
   ]
  },
  {
   "cell_type": "code",
   "execution_count": 15,
   "id": "f394c1b6-1574-40fd-9640-5d84f0805950",
   "metadata": {},
   "outputs": [],
   "source": [
    "#You are working with a large dataset and find that a small percentage of the data is missing. What are\n",
    "#some strategies you can use to determine if the missing data is missing at random or if there is a pattern\n",
    "#to the missing data?"
   ]
  },
  {
   "cell_type": "code",
   "execution_count": 16,
   "id": "c5cde855-2ed3-46a2-9f47-c49f3e4190c0",
   "metadata": {},
   "outputs": [],
   "source": [
    "#In this imputation technique goal is to replace missing data with statistical estimates of the missing values. \n",
    "#Mean, Median or Mode can be used as imputation \n",
    "# or Discard Data , 1) list-wise ,2) Pairwise ,3) Dropping Variables"
   ]
  },
  {
   "cell_type": "code",
   "execution_count": 17,
   "id": "c791d31b-1f33-42f0-aac5-17bf5b9b1fc0",
   "metadata": {},
   "outputs": [],
   "source": [
    "#Q10: When attempting to estimate customer satisfaction for a project, you discover that the dataset is\n",
    "#unbalanced, with the bulk of customers reporting being satisfied. What methods can you employ to\n",
    "#balance the dataset and down-sample the majority class?"
   ]
  },
  {
   "cell_type": "code",
   "execution_count": 18,
   "id": "b6cc6cab-ff1e-42c1-8add-b9c062409168",
   "metadata": {},
   "outputs": [],
   "source": [
    "#One of the widely adopted class imbalance techniques for dealing with highly unbalanced datasets is called \n",
    "#resampling. It consists of removing samples from the majority class (under-sampling) and/or adding more examples\n",
    "#from the minority class (over-sampling).\n",
    "#Resampling (Oversampling and Undersampling)\n",
    "\n",
    "#This technique is used to upsample or downsample the minority or majority class. When we are using an \n",
    "#imbalanced dataset, we can oversample the minority class using replacement. This technique is called \n",
    "#oversampling. Similarly, we can randomly delete rows from the majority class to match them with the minority \n",
    "#class which is called undersampling. After sampling the data we can get a balanced dataset for both majority \n",
    "#and minority classes. So, when both classes have a similar number of records present in the dataset, we can \n",
    "#assume that the classifier will give equal importance to both classes."
   ]
  },
  {
   "cell_type": "code",
   "execution_count": 19,
   "id": "ecbd5df5-aec4-4b00-bf4a-5ca2d0081bc0",
   "metadata": {},
   "outputs": [],
   "source": [
    "#Q11: You discover that the dataset is unbalanced with a low percentage of occurrences while working on a\n",
    "#project that requires you to estimate the occurrence of a rare event. What methods can you employ to\n",
    "#balance the dataset and up-sample the minority class?"
   ]
  },
  {
   "cell_type": "code",
   "execution_count": null,
   "id": "12f78823-d020-4c8a-bf6d-13bb76ed51da",
   "metadata": {},
   "outputs": [],
   "source": [
    "#Random oversampling involves randomly selecting examples from the minority class, with replacement, \n",
    "#and adding them to the training dataset. Random undersampling involves randomly selecting examples from the \n",
    "#majority class and deleting them from the training dataset."
   ]
  }
 ],
 "metadata": {
  "kernelspec": {
   "display_name": "Python 3 (ipykernel)",
   "language": "python",
   "name": "python3"
  },
  "language_info": {
   "codemirror_mode": {
    "name": "ipython",
    "version": 3
   },
   "file_extension": ".py",
   "mimetype": "text/x-python",
   "name": "python",
   "nbconvert_exporter": "python",
   "pygments_lexer": "ipython3",
   "version": "3.10.8"
  }
 },
 "nbformat": 4,
 "nbformat_minor": 5
}
